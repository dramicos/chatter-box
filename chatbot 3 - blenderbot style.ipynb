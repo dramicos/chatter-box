{
 "cells": [
  {
   "cell_type": "code",
   "execution_count": null,
   "id": "9860ce82",
   "metadata": {},
   "outputs": [],
   "source": [
    "# for speech-to-text\n",
    "import speech_recognition as sr\n",
    "# for text-to-speech\n",
    "import pyttsx3\n",
    "import os\n",
    "import time\n",
    "# for data\n",
    "import datetime\n",
    "import numpy as np\n",
    "import torch\n",
    "# import model class and tokenizer\n",
    "from transformers import BlenderbotTokenizer, BlenderbotForConditionalGeneration\n",
    "# import pywhatkit\n",
    "# import wikipedia"
   ]
  },
  {
   "cell_type": "code",
   "execution_count": null,
   "id": "60007b1e",
   "metadata": {
    "scrolled": true
   },
   "outputs": [],
   "source": [
    "# download and setup model and tokenizer\n",
    "tokenizer = BlenderbotTokenizer.from_pretrained('C:/data/blenderbot-3B/blenderb',map_location=torch.device('cuda'))\n",
    "model = BlenderbotForConditionalGeneration.from_pretrained('C:/data/blenderbot-3B/blenderb')"
   ]
  },
  {
   "cell_type": "code",
   "execution_count": null,
   "id": "94a317bd",
   "metadata": {},
   "outputs": [],
   "source": [
    "# Building the AI\n",
    "class ChatBot():\n",
    "    def __init__(self, name):\n",
    "        print(\"----- Starting up\", name, \"-----\")\n",
    "        self.name = name\n",
    "    def listen(self):\n",
    "        recognizer = sr.Recognizer()\n",
    "        with sr.Microphone() as mic:\n",
    "            print(\"Listening...\")\n",
    "            audio = recognizer.listen(mic)\n",
    "            self.text=\"ERROR\"\n",
    "        try:\n",
    "            self.text = recognizer.recognize_google(audio)\n",
    "            print(\"Me  --> \", self.text)\n",
    "        except:\n",
    "            print(\"Me  -->  ERROR\")\n",
    "    @staticmethod\n",
    "    def talk(text):\n",
    "        print(\"Dev --> \", text)\n",
    "        engine = pyttsx3.init('sapi5')\n",
    "        voices = engine.getProperty('voices')\n",
    "        engine.setProperty('voice', voices[3].id)\n",
    "        engine.setProperty('rate',200)\n",
    "        engine.say(text)\n",
    "        engine.runAndWait()\n",
    "    def wake_up(self, text):\n",
    "        return True if self.name in text.lower() else False\n",
    "    @staticmethod\n",
    "    def action_time():\n",
    "        return datetime.datetime.now().time().strftime('%H:%M')"
   ]
  },
  {
   "cell_type": "code",
   "execution_count": null,
   "id": "bfaec6c4",
   "metadata": {},
   "outputs": [],
   "source": [
    "# Running the AI\n",
    "if __name__ == \"__main__\":\n",
    "    ai = ChatBot(name=\"bob\")\n",
    "    #nlp = transformers.pipeline(\"conversational\", model=\"microsoft/DialoGPT-medium\")\n",
    "    os.environ[\"TOKENIZERS_PARALLELISM\"] = \"true\"\n",
    "    ex=True\n",
    "    while ex:\n",
    "        ai.listen()\n",
    "        ## wake up\n",
    "        if ai.wake_up(ai.text) is True:\n",
    "            chat = model.generate(**tokenizer(ai.text, return_tensors='pt'))\n",
    "            res = tokenizer.decode(chat[0])\n",
    "            res = res.replace(\"<s>\", \"\")\n",
    "            res = res.replace(\"</s>\", \"\")\n",
    "            \n",
    "        ## action time\n",
    "        elif \"time\" in ai.text:\n",
    "            res = ai.action_time()\n",
    "        elif any(i in ai.text for i in [\"exit\",\"close\"]):\n",
    "            res = np.random.choice([\"Tata\",\"Have a good day\",\"Bye\",\"Goodbye\",\"Hope to meet soon\",\"peace out!\"])\n",
    "            ex=False        \n",
    "        else:   \n",
    "            if ai.text==\"ERROR\":\n",
    "                res=\"\"\n",
    "            else:\n",
    "                chat = model.generate(**tokenizer(ai.text, return_tensors='pt'))\n",
    "                res = tokenizer.decode(chat[0])\n",
    "                res = res.replace(\"<s>\", \"\")\n",
    "                res = res.replace(\"</s>\", \"\")\n",
    "        ai.talk(res)\n",
    "    print(\"----- Closing down Bob -----\")"
   ]
  },
  {
   "cell_type": "code",
   "execution_count": null,
   "id": "52547257",
   "metadata": {},
   "outputs": [],
   "source": []
  }
 ],
 "metadata": {
  "kernelspec": {
   "display_name": "Python 3 (ipykernel)",
   "language": "python",
   "name": "python3"
  },
  "language_info": {
   "codemirror_mode": {
    "name": "ipython",
    "version": 3
   },
   "file_extension": ".py",
   "mimetype": "text/x-python",
   "name": "python",
   "nbconvert_exporter": "python",
   "pygments_lexer": "ipython3",
   "version": "3.8.13"
  },
  "vscode": {
   "interpreter": {
    "hash": "37e7fb2da5e50466637845802289cd9557b44701aaa67a0ddeb3b500da7113d1"
   }
  }
 },
 "nbformat": 4,
 "nbformat_minor": 5
}

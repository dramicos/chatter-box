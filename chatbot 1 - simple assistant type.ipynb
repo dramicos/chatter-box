{
 "cells": [
  {
   "cell_type": "code",
   "execution_count": null,
   "id": "4dc2b785",
   "metadata": {},
   "outputs": [],
   "source": [
    "import speech_recognition as sr\n",
    "import pyttsx3\n",
    "import pywhatkit\n",
    "import wikipedia\n",
    "import numpy as np\n",
    "import time\n",
    "import datetime\n",
    "import transformers\n",
    "import os"
   ]
  },
  {
   "cell_type": "code",
   "execution_count": null,
   "id": "ba6001f9",
   "metadata": {},
   "outputs": [],
   "source": [
    "# create a class to instantiate a bot instance\n",
    "class ChatBot():\n",
    "    def __init__(self, name):\n",
    "        print(\"-------- starting up\", name, \"-----\")\n",
    "        self.name =name\n",
    "    \n",
    "    def listen(self):\n",
    "        listener = sr.Recognizer()\n",
    "    \n",
    "        try:\n",
    "            with sr.Microphone() as source:\n",
    "                print(\"listening...\")\n",
    "                voice_in = listener.listen(source)\n",
    "            \n",
    "                self.text = listener.recognize_google(voice)\n",
    "                print(\"User --> \", self.text)\n",
    "                \n",
    "        except:\n",
    "            print(\"Error\")\n",
    "    @staticmethod\n",
    "    def talk(text):\n",
    "        print(f'{name} -->', text)\n",
    "        \n",
    "        engine = pyttsx3.init('sapi5')\n",
    "        voices = engine.getProperty('voices')\n",
    "        engine.setProperty('voice', voices[3].id)\n",
    "        engine.setProperty('rate',200)\n",
    "        engine.say(text)\n",
    "        engine.runAndWait()\n",
    "    \n",
    "    def wake_up(self, text):\n",
    "        return True if self.name in text.lower() else False\n",
    "    @staticmethod\n",
    "    def action_time():\n",
    "        return datetime.datetime.now().time().strftime('%H:%M')\n",
    "        \n",
    "    "
   ]
  },
  {
   "cell_type": "code",
   "execution_count": null,
   "id": "a1422163",
   "metadata": {},
   "outputs": [],
   "source": [
    "# run the ai\n",
    "if __name__ == \"__main__\":\n",
    "    ai = ChatBot(name=\"Bob\")\n",
    "    nlp = transformers.pipeline(\"conversational\", model=\"microsoft/DialoGPT-medium\")\n",
    "    os.environ[\"TOKENIZERS_PARALLELISM\"] = \"true\"\n",
    "    ex = True\n",
    "    \n",
    "    while ex:\n",
    "        ai.listen()\n",
    "        ## wake up\n",
    "        if ai.wake_up(ai.text) is True:\n",
    "            response = f\"Hello, my name is {name}, what can I do for you?\"\n",
    "        elif \"time\" in ai.text:\n",
    "            response = ai.action_time()\n",
    "        elif any(i in ai.text for i in [\"thank\",\"thanks\"]):\n",
    "            response = np.random.choice([\"you're welcome!\",\"anytime!\",\"no problem!\",\"cool!\",\"I'm here if you need me!\",\"mention not\"])\n",
    "        elif any(i in ai.text for i in [\"exit\",\"close\"]):\n",
    "            response = np.random.choice([\"Tata\",\"Have a good day\",\"Bye\",\"Goodbye\",\"Hope to meet soon\",\"peace out!\"])\n",
    "            ex=False\n",
    "        elif \"play\" in ai.text:\n",
    "            song = ai.text.replace('play','')\n",
    "            response = np.random.choice([\"Here is the song\", \"Playing\"])\n",
    "            pywhatkit.playonyt(song)\n",
    "        elif any(i in ai.text for i in [\"tell me about\", \"summerize\", \"explain\", \"who is\"]):\n",
    "            response = wikipedia.summary(ai.text)\n",
    "        else:\n",
    "            if ai.text=='ERROR':\n",
    "                response = \"Sorry, could you say that again?\"\n",
    "            else:\n",
    "                chat = nlp(transformers.Conversation(ai.text), pad_token_id=50256)\n",
    "                response = str(chat)\n",
    "                response = response[response.find(\"bot >> \")+6:].strip()\n",
    "        ai.talk(response)\n",
    "        \n",
    "    print(f\"------------Closing down{name}---------------\")"
   ]
  },
  {
   "cell_type": "code",
   "execution_count": null,
   "id": "cee3df5a",
   "metadata": {},
   "outputs": [],
   "source": [
    "def run_chatbot():\n",
    "    command = get_command()\n",
    "    if 'play' in command:\n",
    "        song = command.replace('play','')\n",
    "        talk('playing, ' + song)\n",
    "        pywhatkit.playonyt(song)\n",
    "    elif 'tell me about' in command:\n",
    "        tellme = command.replace('tell me about','')\n",
    "        info = wikipedia.summary(tellme)\n",
    "        talk(info)\n",
    "        "
   ]
  },
  {
   "cell_type": "code",
   "execution_count": null,
   "id": "ebf0bde8",
   "metadata": {},
   "outputs": [],
   "source": [
    "run_chatbot()"
   ]
  },
  {
   "cell_type": "code",
   "execution_count": null,
   "id": "c0b395b9",
   "metadata": {},
   "outputs": [],
   "source": []
  }
 ],
 "metadata": {
  "kernelspec": {
   "display_name": "Python 3 (ipykernel)",
   "language": "python",
   "name": "python3"
  },
  "language_info": {
   "codemirror_mode": {
    "name": "ipython",
    "version": 3
   },
   "file_extension": ".py",
   "mimetype": "text/x-python",
   "name": "python",
   "nbconvert_exporter": "python",
   "pygments_lexer": "ipython3",
   "version": "3.8.13"
  }
 },
 "nbformat": 4,
 "nbformat_minor": 5
}
